{
 "cells": [
  {
   "cell_type": "code",
   "execution_count": 1,
   "metadata": {
    "colab": {},
    "colab_type": "code",
    "id": "nAl0C2yPFita"
   },
   "outputs": [],
   "source": [
    "#For Fetching html of website\n",
    "import requests \n",
    "from bs4 import BeautifulSoup\n",
    "\n",
    "#For Pretty Print\n",
    "import pprint\n",
    "\n",
    "#For Regular Expression & Text Filtering \n",
    "import re\n",
    "#Regex Validator\n",
    "#https://regex101.com/\n",
    "\n",
    "#For Dataframe & Ploting\n",
    "import pandas as pd\n",
    "\n",
    "#For Geting Argument Names \n",
    "import traceback\n",
    "\n",
    "#For Plotting & Graph\n",
    "import matplotlib.pyplot as plt\n",
    "%matplotlib inline\n",
    "import seaborn as sns\n",
    "\n",
    "#For PreProcessing, Scaling & Normalizing\n",
    "from sklearn.preprocessing import MinMaxScaler\n",
    "\n",
    "#global variable\n",
    "c1=\"\"\n",
    "c2=\"\""
   ]
  },
  {
   "cell_type": "code",
   "execution_count": 29,
   "metadata": {},
   "outputs": [],
   "source": [
    "def GetHtml(_url):\n",
    "    return BeautifulSoup(requests.get(str(_url)).content,'html.parser')"
   ]
  },
  {
   "cell_type": "code",
   "execution_count": 30,
   "metadata": {},
   "outputs": [],
   "source": [
    "def GetElementHtmlList(_soup,_element,_class):\n",
    "    temp = list()\n",
    "    for l in _soup.findAll(str(_element), class_ = str(_class)):\n",
    "        temp.append(l)\n",
    "    return temp\n"
   ]
  },
  {
   "cell_type": "code",
   "execution_count": 31,
   "metadata": {},
   "outputs": [],
   "source": [
    "def GetElementTextList(_soup,_element,_class,_print=False):\n",
    "    temp = list()\n",
    "    for l in _soup.findAll(str(_element), class_ = str(_class)):\n",
    "        temp.append(l.text)\n",
    "    if _print is True:\n",
    "        pprint.pprint(temp)         \n",
    "    return temp"
   ]
  },
  {
   "cell_type": "code",
   "execution_count": 32,
   "metadata": {},
   "outputs": [],
   "source": [
    "def GetElementIntegarList(_soup,_element,_class,_print=False):\n",
    "    temp = list()\n",
    "    for l in _soup.findAll(str(_element), class_ = str(_class)):\n",
    "        temp.append(int(l.text))\n",
    "    if _print is True:\n",
    "        pprint.pprint(temp)         \n",
    "    return temp"
   ]
  },
  {
   "cell_type": "code",
   "execution_count": 33,
   "metadata": {},
   "outputs": [],
   "source": [
    "def GetElementMoneyList(_soup,_element,_class,_print=False):\n",
    "    temp = list()\n",
    "    for l in _soup.findAll(str(_element), class_ = str(_class)):\n",
    "        temp.append(float(l.text))\n",
    "    if _print is True:\n",
    "        pprint.pprint(temp)         \n",
    "    return temp"
   ]
  },
  {
   "cell_type": "code",
   "execution_count": 34,
   "metadata": {},
   "outputs": [],
   "source": [
    "def GetAllNthValue(_list,_nth):\n",
    "    temp = [l for l in _list[::_nth]]      \n",
    "    return temp"
   ]
  },
  {
   "cell_type": "code",
   "execution_count": 35,
   "metadata": {},
   "outputs": [],
   "source": [
    "def GetData(_list,_pattern):\n",
    "    p = re.compile(_pattern)\n",
    "    temp = [s for s in _list if p.match(s)]\n",
    "    return temp"
   ]
  },
  {
   "cell_type": "code",
   "execution_count": 36,
   "metadata": {},
   "outputs": [],
   "source": [
    "def ConvertListToNumbersWithSplit(_list,start_index=0):\n",
    "    return [float(''.join(d[start_index:].split(','))) for d in _list]"
   ]
  },
  {
   "cell_type": "code",
   "execution_count": 54,
   "metadata": {
    "colab": {},
    "colab_type": "code",
    "id": "y25EZdiHUmt6"
   },
   "outputs": [],
   "source": [
    "def GetDataFrame(_col1,_col2,_scale=False):\n",
    "    filename, lineno, function_name, code = traceback.extract_stack()[-2]\n",
    "    n=re.compile(r'\\((.*?)\\).*$').search(code).groups()[0].split(',')\n",
    "    global c1 \n",
    "    global c2\n",
    "    c1=n[0]\n",
    "    c2=n[1]\n",
    "    temp=pd.DataFrame({c1:_col1,c2:_col2})\n",
    "    \n",
    "    if _scale is True:\n",
    "        scaler = MinMaxScaler()\n",
    "        float_array = temp[c2].values.astype(float)\n",
    "        temp[c2] = scaler.fit_transform(float_array.reshape(-1, 1))\n",
    "    \n",
    "    # Sort the values by highest to lowest \n",
    "    temp = temp.sort_values(c2, ascending=False).reset_index().drop(columns='index')\n",
    "    \n",
    "    return temp\n",
    "    "
   ]
  },
  {
   "cell_type": "code",
   "execution_count": 55,
   "metadata": {
    "colab": {},
    "colab_type": "code",
    "id": "LvceG6InaGDU"
   },
   "outputs": [],
   "source": [
    "def PlotGraph(_data,_title):\n",
    "    #Create the basic figure\n",
    "    plt.figure(figsize=(15, 15))\n",
    "    print(c1)\n",
    "    sns.barplot(x = c1, y = c2, data = _data.head(10))\n",
    "    plt.xlabel(c1)\n",
    "    plt.ylabel(c2) \n",
    "    plt.title(_title);"
   ]
  },
  {
   "cell_type": "markdown",
   "metadata": {},
   "source": [
    "# Main "
   ]
  },
  {
   "cell_type": "code",
   "execution_count": 56,
   "metadata": {},
   "outputs": [],
   "source": [
    "temp = GetHtml('https://www.coinbase.com/price')"
   ]
  },
  {
   "cell_type": "code",
   "execution_count": 57,
   "metadata": {},
   "outputs": [],
   "source": [
    "temp = GetElementTextList(temp,\n",
    "                     'h4',\n",
    "                      'Header__StyledHeader-sc-1q6y56a-0 hZxUBM TextElement__Spacer-sc-18l8wi5-0 hpeTzd')\n"
   ]
  },
  {
   "cell_type": "code",
   "execution_count": 58,
   "metadata": {},
   "outputs": [],
   "source": [
    "Names=GetData(temp,r'^(?!PKR.*\\d)|^[a-zA-Z]*$')\n",
    "#print(Names)\n",
    "\n",
    "Prices=GetData(temp,r'^PKR.*\\d$')\n",
    "#print(Prices)"
   ]
  },
  {
   "cell_type": "code",
   "execution_count": 59,
   "metadata": {},
   "outputs": [],
   "source": [
    "Prices= ConvertListToNumbersWithSplit(Prices,3)\n",
    "#print(Prices)"
   ]
  },
  {
   "cell_type": "code",
   "execution_count": 60,
   "metadata": {},
   "outputs": [
    {
     "data": {
      "text/plain": [
       "True"
      ]
     },
     "execution_count": 60,
     "metadata": {},
     "output_type": "execute_result"
    }
   ],
   "source": [
    "len(Names)==len(Prices)"
   ]
  },
  {
   "cell_type": "code",
   "execution_count": 61,
   "metadata": {
    "colab": {},
    "colab_type": "code",
    "id": "j887NjcRt0No"
   },
   "outputs": [],
   "source": [
    "temp = GetDataFrame(Names,Prices,True)"
   ]
  },
  {
   "cell_type": "code",
   "execution_count": 62,
   "metadata": {},
   "outputs": [
    {
     "name": "stdout",
     "output_type": "stream",
     "text": [
      "Names\n"
     ]
    },
    {
     "data": {
      "image/png": "[encoded data removed]",
      "text/plain": [
       "<Figure size 1080x1080 with 1 Axes>"
      ]
     },
     "metadata": {},
     "output_type": "display_data"
    }
   ],
   "source": [
    "PlotGraph(temp,\"Hello\")"
   ]
  },
  {
   "cell_type": "code",
   "execution_count": null,
   "metadata": {},
   "outputs": [],
   "source": []
  }
 ],
 "metadata": {
  "colab": {
   "name": "Web Scraping, Regular Expressions, and Visualization .ipynb",
   "provenance": []
  },
  "kernelspec": {
   "display_name": "Python 3",
   "language": "python",
   "name": "python3"
  },
  "language_info": {
   "codemirror_mode": {
    "name": "ipython",
    "version": 3
   },
   "file_extension": ".py",
   "mimetype": "text/x-python",
   "name": "python",
   "nbconvert_exporter": "python",
   "pygments_lexer": "ipython3",
   "version": "3.6.5"
  }
 },
 "nbformat": 4,
 "nbformat_minor": 1
}
